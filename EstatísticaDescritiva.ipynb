{
  "nbformat": 4,
  "nbformat_minor": 0,
  "metadata": {
    "colab": {
      "provenance": [],
      "authorship_tag": "ABX9TyNgXrPDHEx10SAcJp7IXyVV",
      "include_colab_link": true
    },
    "kernelspec": {
      "name": "python3",
      "display_name": "Python 3"
    },
    "language_info": {
      "name": "python"
    }
  },
  "cells": [
    {
      "cell_type": "markdown",
      "metadata": {
        "id": "view-in-github",
        "colab_type": "text"
      },
      "source": [
        "<a href=\"https://colab.research.google.com/github/Ramon-Goveia/Estatistica-Descritiva/blob/master/Estat%C3%ADsticaDescritiva.ipynb\" target=\"_parent\"><img src=\"https://colab.research.google.com/assets/colab-badge.svg\" alt=\"Open In Colab\"/></a>"
      ]
    },
    {
      "cell_type": "markdown",
      "source": [
        "Estatística para Ciência de Dados\n",
        "\n",
        "A estatística é essencial para a análise de dados e machine learning. Aqui estão alguns dos principais tópicos e conceitos:"
      ],
      "metadata": {
        "id": "3gL4pz-khNwM"
      }
    },
    {
      "cell_type": "markdown",
      "source": [
        "Estatística Descritiva\n",
        "\n",
        "*   Medidas de tendência central (média, mediana, moda)\n",
        "*   Medidas de dispersão (desvio padrão, variância)\n",
        "*   Distribuições de frequência (histograma)\n",
        "*   Resumo de estatísticas descritivas com Pandas/NumPy"
      ],
      "metadata": {
        "id": "IZA7MvflhdL7"
      }
    },
    {
      "cell_type": "code",
      "source": [
        "# Importando as bibliotecas numpy e pandas\n",
        "import numpy as np\n",
        "import pandas as pd\n",
        "\n",
        "# Lista de idades\n",
        "idades = [23, 45, 19, 33, 40, 27]\n",
        "\n",
        "# Calculando a média das idades usando a função mean() do numpy\n",
        "media = np.mean(idades)\n",
        "\n",
        "# Calculando a mediana das idades usando a função median() do numpy\n",
        "mediana = np.median(idades)\n",
        "\n",
        "# Calculando a moda das idades usando a função mode() do numpy\n",
        "moda = np.argmax(np.bincount(idades))\n",
        "\n",
        "# Calculando o desvio padrão das idades usando a função std() do numpy\n",
        "desvio = np.std(idades)\n",
        "\n",
        "# Criando um DataFrame com as idades\n",
        "df_idades = pd.DataFrame(idades, columns=['Idades'])\n",
        "\n",
        "# Calculando a variância usando a função var() do pandas\n",
        "variancia = df_idades['Idades'].var()\n",
        "\n",
        "# Criando um histograma das idades\n",
        "histograma = df_idades['Idades'].plot.hist(bins=10, edgecolor='black')\n",
        "\n",
        "# Imprimindo os resultados: média, mediana, moda, desvio padrão e variância\n",
        "print(\"Média:\", media)\n",
        "print(\"Mediana:\", mediana)\n",
        "print(\"Moda:\", moda)\n",
        "print(\"Desvio Padrão:\", desvio)\n",
        "print(\"Variância:\", variancia)\n",
        "\n",
        "# Mostrando o histograma\n",
        "histograma.set_title('Distribuição de Idades')\n",
        "histograma.set_xlabel('Idade')\n",
        "histograma.set_ylabel('Frequência')\n",
        "histograma.grid(True)\n",
        "histograma.figure.show()\n",
        "\n",
        "# Resumo de estatísticas descritivas usando o método describe() do pandas\n",
        "resumo_estatisticas = df_idades.describe()\n",
        "print(\"\\nResumo de Estatísticas Descritivas:\")\n",
        "print(resumo_estatisticas)"
      ],
      "metadata": {
        "colab": {
          "base_uri": "https://localhost:8080/",
          "height": 762
        },
        "id": "zKCfN8K8hig6",
        "outputId": "eaa156fa-2af3-46c0-8fe9-5965811064d8"
      },
      "execution_count": null,
      "outputs": [
        {
          "output_type": "stream",
          "name": "stdout",
          "text": [
            "Média: 31.166666666666668\n",
            "Mediana: 30.0\n",
            "Moda: 19\n",
            "Desvio Padrão: 9.172725270544676\n",
            "Variância: 100.96666666666667\n",
            "\n",
            "Resumo de Estatísticas Descritivas:\n",
            "          Idades\n",
            "count   6.000000\n",
            "mean   31.166667\n",
            "std    10.048217\n",
            "min    19.000000\n",
            "25%    24.000000\n",
            "50%    30.000000\n",
            "75%    38.250000\n",
            "max    45.000000\n"
          ]
        },
        {
          "output_type": "display_data",
          "data": {
            "text/plain": [
              "<Figure size 640x480 with 1 Axes>"
            ],
            "image/png": "[encoded data removed]"
          },
          "metadata": {}
        }
      ]
    },
    {
      "cell_type": "markdown",
      "source": [
        "->"
      ],
      "metadata": {
        "id": "Dfn6vsDAuQFl"
      }
    },
    {
      "cell_type": "markdown",
      "source": [
        "Probabilidade\n",
        "\n",
        "*   Eventos e espaço amostral\n",
        "*   Probabilidade condicional e Teorema de Bayes\n",
        "*   Distribuições de probabilidade (normal, binomial, Poisson)"
      ],
      "metadata": {
        "id": "B5PTPUxEr1e3"
      }
    },
    {
      "cell_type": "code",
      "source": [
        "from scipy.stats import norm, binom, poisson\n",
        "\n",
        "# Probabilidade em uma distribuição normal\n",
        "media_normal = 178\n",
        "desvio_normal = 7\n",
        "prob_normal = norm(media_normal, desvio_normal).pdf(180)\n",
        "print(\"Probabilidade em uma distribuição normal:\", prob_normal)\n",
        "\n",
        "# Probabilidade em uma distribuição binomial\n",
        "n_binomial = 10  # Número de tentativas\n",
        "p_binomial = 0.3  # Probabilidade de sucesso em cada tentativa\n",
        "k_binomial = 3    # Número de sucessos desejados\n",
        "prob_binomial = binom.pmf(k_binomial, n_binomial, p_binomial)\n",
        "print(\"Probabilidade em uma distribuição binomial:\", prob_binomial)\n",
        "\n",
        "# Probabilidade em uma distribuição de Poisson\n",
        "lambda_poisson = 5  # Taxa média de ocorrência de eventos\n",
        "k_poisson = 2       # Número de eventos desejados\n",
        "prob_poisson = poisson.pmf(k_poisson, lambda_poisson)\n",
        "print(\"Probabilidade em uma distribuição de Poisson:\", prob_poisson)"
      ],
      "metadata": {
        "id": "Tr6WZVC_r0BP",
        "colab": {
          "base_uri": "https://localhost:8080/"
        },
        "outputId": "b7d95a91-1d0c-4217-9a8f-43388f9fa2a9"
      },
      "execution_count": 12,
      "outputs": [
        {
          "output_type": "stream",
          "name": "stdout",
          "text": [
            "Probabilidade em uma distribuição normal: 0.0547123942777446\n",
            "Probabilidade em uma distribuição binomial: 0.26682793199999977\n",
            "Probabilidade em uma distribuição de Poisson: 0.08422433748856832\n"
          ]
        }
      ]
    }
  ]
}