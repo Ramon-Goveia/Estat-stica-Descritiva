{
  "nbformat": 4,
  "nbformat_minor": 0,
  "metadata": {
    "colab": {
      "provenance": [],
      "collapsed_sections": [],
      "authorship_tag": "ABX9TyOuOPWmGtAKP8cxI3ux2u+X",
      "include_colab_link": true
    },
    "kernelspec": {
      "name": "python3",
      "display_name": "Python 3"
    },
    "language_info": {
      "name": "python"
    }
  },
  "cells": [
    {
      "cell_type": "markdown",
      "metadata": {
        "id": "view-in-github",
        "colab_type": "text"
      },
      "source": [
        "<a href=\"https://colab.research.google.com/github/Ramon-Goveia/Estatistica-Descritiva/blob/master/analiseDescritiva.ipynb\" target=\"_parent\"><img src=\"https://colab.research.google.com/assets/colab-badge.svg\" alt=\"Open In Colab\"/></a>"
      ]
    },
    {
      "cell_type": "markdown",
      "source": [
        "**Estatística Descritiva**"
      ],
      "metadata": {
        "id": "7p2OD9J0g-Wo"
      }
    },
    {
      "cell_type": "markdown",
      "source": [
        "Segundo a Agência Nacional de Energia Elétrica (ANEEL), atualmente a taxa de aumento médio no preço de energia elétrica por ano é de aproximadamente 2%. Devido a esse constante aumento do preço da energia, alguns consumidores começaram a pensar em soluções para reduzir o custo da conta de energia elétrica. \n",
        "\n",
        "Investir em um sistema de energia solar é uma opção que exige alto investimento inicial e que começa a ter retorno depois de alguns anos. \n",
        "\n",
        "Monitorar o consumo de grupos de equipamentos e tentar fazer uma otimização do tempo de uso para gerar economia pode ser uma boa opção para quem não quer fazer um alto investimento.\n",
        "\n",
        "Para isso vamos analisar o perfil de consumo de energia dos equipamentos.\n",
        "\n",
        "Análise de posição (média, moda, mediana e quartis 1º e 3º) e de dispersão (amplitude, variância, desvio padrão e coeficiente de variação) para os três grupos."
      ],
      "metadata": {
        "id": "GSDHmdrhkF0m"
      }
    },
    {
      "cell_type": "code",
      "source": [
        "from google.colab import drive\n",
        "drive.mount('/content/drive')"
      ],
      "metadata": {
        "id": "5LoMOlt5eQZH",
        "outputId": "34373dd7-f6e0-4382-e5f4-8f5379d0095f",
        "colab": {
          "base_uri": "https://localhost:8080/"
        }
      },
      "execution_count": null,
      "outputs": [
        {
          "output_type": "stream",
          "name": "stdout",
          "text": [
            "Mounted at /content/drive\n"
          ]
        }
      ]
    },
    {
      "cell_type": "code",
      "source": [
        "# importando bibliotéca pandas\n",
        "import pandas as pd"
      ],
      "metadata": {
        "id": "l8nF6-SbetLl"
      },
      "execution_count": null,
      "outputs": []
    },
    {
      "cell_type": "code",
      "source": [
        "#Leitura dos arquivos\n",
        "df = pd.read_excel(\"analise_descritiva.xlsx\")"
      ],
      "metadata": {
        "id": "KbyUUNMEe1ZL"
      },
      "execution_count": null,
      "outputs": []
    },
    {
      "cell_type": "code",
      "source": [
        "df.head()"
      ],
      "metadata": {
        "id": "K1bj9cv2e-cT",
        "outputId": "45323af7-0c4f-4dfa-dee0-bd2f32dee73b",
        "colab": {
          "base_uri": "https://localhost:8080/",
          "height": 206
        }
      },
      "execution_count": null,
      "outputs": [
        {
          "output_type": "execute_result",
          "data": {
            "text/plain": [
              "         Data     Tempo  Grupo1  Grupo2  Grupo3\n",
              "0  2019-11-24  00:00:00       0       2       0\n",
              "1  2019-11-24  00:01:00       0       1       0\n",
              "2  2019-11-24  00:02:00       0       2       0\n",
              "3  2019-11-24  00:03:00       0       1       0\n",
              "4  2019-11-24  00:04:00       0       1       0"
            ],
            "text/html": [
              "\n",
              "  <div id=\"df-1a205e0c-63ee-494c-9f72-4b121aaa4b73\">\n",
              "    <div class=\"colab-df-container\">\n",
              "      <div>\n",
              "<style scoped>\n",
              "    .dataframe tbody tr th:only-of-type {\n",
              "        vertical-align: middle;\n",
              "    }\n",
              "\n",
              "    .dataframe tbody tr th {\n",
              "        vertical-align: top;\n",
              "    }\n",
              "\n",
              "    .dataframe thead th {\n",
              "        text-align: right;\n",
              "    }\n",
              "</style>\n",
              "<table border=\"1\" class=\"dataframe\">\n",
              "  <thead>\n",
              "    <tr style=\"text-align: right;\">\n",
              "      <th></th>\n",
              "      <th>Data</th>\n",
              "      <th>Tempo</th>\n",
              "      <th>Grupo1</th>\n",
              "      <th>Grupo2</th>\n",
              "      <th>Grupo3</th>\n",
              "    </tr>\n",
              "  </thead>\n",
              "  <tbody>\n",
              "    <tr>\n",
              "      <th>0</th>\n",
              "      <td>2019-11-24</td>\n",
              "      <td>00:00:00</td>\n",
              "      <td>0</td>\n",
              "      <td>2</td>\n",
              "      <td>0</td>\n",
              "    </tr>\n",
              "    <tr>\n",
              "      <th>1</th>\n",
              "      <td>2019-11-24</td>\n",
              "      <td>00:01:00</td>\n",
              "      <td>0</td>\n",
              "      <td>1</td>\n",
              "      <td>0</td>\n",
              "    </tr>\n",
              "    <tr>\n",
              "      <th>2</th>\n",
              "      <td>2019-11-24</td>\n",
              "      <td>00:02:00</td>\n",
              "      <td>0</td>\n",
              "      <td>2</td>\n",
              "      <td>0</td>\n",
              "    </tr>\n",
              "    <tr>\n",
              "      <th>3</th>\n",
              "      <td>2019-11-24</td>\n",
              "      <td>00:03:00</td>\n",
              "      <td>0</td>\n",
              "      <td>1</td>\n",
              "      <td>0</td>\n",
              "    </tr>\n",
              "    <tr>\n",
              "      <th>4</th>\n",
              "      <td>2019-11-24</td>\n",
              "      <td>00:04:00</td>\n",
              "      <td>0</td>\n",
              "      <td>1</td>\n",
              "      <td>0</td>\n",
              "    </tr>\n",
              "  </tbody>\n",
              "</table>\n",
              "</div>\n",
              "      <button class=\"colab-df-convert\" onclick=\"convertToInteractive('df-1a205e0c-63ee-494c-9f72-4b121aaa4b73')\"\n",
              "              title=\"Convert this dataframe to an interactive table.\"\n",
              "              style=\"display:none;\">\n",
              "        \n",
              "  <svg xmlns=\"http://www.w3.org/2000/svg\" height=\"24px\"viewBox=\"0 0 24 24\"\n",
              "       width=\"24px\">\n",
              "    <path d=\"M0 0h24v24H0V0z\" fill=\"none\"/>\n",
              "    <path d=\"M18.56 5.44l.94 2.06.94-2.06 2.06-.94-2.06-.94-.94-2.06-.94 2.06-2.06.94zm-11 1L8.5 8.5l.94-2.06 2.06-.94-2.06-.94L8.5 2.5l-.94 2.06-2.06.94zm10 10l.94 2.06.94-2.06 2.06-.94-2.06-.94-.94-2.06-.94 2.06-2.06.94z\"/><path d=\"M17.41 7.96l-1.37-1.37c-.4-.4-.92-.59-1.43-.59-.52 0-1.04.2-1.43.59L10.3 9.45l-7.72 7.72c-.78.78-.78 2.05 0 2.83L4 21.41c.39.39.9.59 1.41.59.51 0 1.02-.2 1.41-.59l7.78-7.78 2.81-2.81c.8-.78.8-2.07 0-2.86zM5.41 20L4 18.59l7.72-7.72 1.47 1.35L5.41 20z\"/>\n",
              "  </svg>\n",
              "      </button>\n",
              "      \n",
              "  <style>\n",
              "    .colab-df-container {\n",
              "      display:flex;\n",
              "      flex-wrap:wrap;\n",
              "      gap: 12px;\n",
              "    }\n",
              "\n",
              "    .colab-df-convert {\n",
              "      background-color: #E8F0FE;\n",
              "      border: none;\n",
              "      border-radius: 50%;\n",
              "      cursor: pointer;\n",
              "      display: none;\n",
              "      fill: #1967D2;\n",
              "      height: 32px;\n",
              "      padding: 0 0 0 0;\n",
              "      width: 32px;\n",
              "    }\n",
              "\n",
              "    .colab-df-convert:hover {\n",
              "      background-color: #E2EBFA;\n",
              "      box-shadow: 0px 1px 2px rgba(60, 64, 67, 0.3), 0px 1px 3px 1px rgba(60, 64, 67, 0.15);\n",
              "      fill: #174EA6;\n",
              "    }\n",
              "\n",
              "    [theme=dark] .colab-df-convert {\n",
              "      background-color: #3B4455;\n",
              "      fill: #D2E3FC;\n",
              "    }\n",
              "\n",
              "    [theme=dark] .colab-df-convert:hover {\n",
              "      background-color: #434B5C;\n",
              "      box-shadow: 0px 1px 3px 1px rgba(0, 0, 0, 0.15);\n",
              "      filter: drop-shadow(0px 1px 2px rgba(0, 0, 0, 0.3));\n",
              "      fill: #FFFFFF;\n",
              "    }\n",
              "  </style>\n",
              "\n",
              "      <script>\n",
              "        const buttonEl =\n",
              "          document.querySelector('#df-1a205e0c-63ee-494c-9f72-4b121aaa4b73 button.colab-df-convert');\n",
              "        buttonEl.style.display =\n",
              "          google.colab.kernel.accessAllowed ? 'block' : 'none';\n",
              "\n",
              "        async function convertToInteractive(key) {\n",
              "          const element = document.querySelector('#df-1a205e0c-63ee-494c-9f72-4b121aaa4b73');\n",
              "          const dataTable =\n",
              "            await google.colab.kernel.invokeFunction('convertToInteractive',\n",
              "                                                     [key], {});\n",
              "          if (!dataTable) return;\n",
              "\n",
              "          const docLinkHtml = 'Like what you see? Visit the ' +\n",
              "            '<a target=\"_blank\" href=https://colab.research.google.com/notebooks/data_table.ipynb>data table notebook</a>'\n",
              "            + ' to learn more about interactive tables.';\n",
              "          element.innerHTML = '';\n",
              "          dataTable['output_type'] = 'display_data';\n",
              "          await google.colab.output.renderOutput(dataTable, element);\n",
              "          const docLink = document.createElement('div');\n",
              "          docLink.innerHTML = docLinkHtml;\n",
              "          element.appendChild(docLink);\n",
              "        }\n",
              "      </script>\n",
              "    </div>\n",
              "  </div>\n",
              "  "
            ]
          },
          "metadata": {},
          "execution_count": 4
        }
      ]
    },
    {
      "cell_type": "code",
      "source": [
        "#Verificando o tipo de dado de cada coluna\n",
        "df.dtypes"
      ],
      "metadata": {
        "id": "-3xAWBDEfMna",
        "outputId": "a731ba6a-b7f3-4039-9324-7b389b23ac03",
        "colab": {
          "base_uri": "https://localhost:8080/"
        }
      },
      "execution_count": null,
      "outputs": [
        {
          "output_type": "execute_result",
          "data": {
            "text/plain": [
              "Data      object\n",
              "Tempo     object\n",
              "Grupo1     int64\n",
              "Grupo2     int64\n",
              "Grupo3     int64\n",
              "dtype: object"
            ]
          },
          "metadata": {},
          "execution_count": 5
        }
      ]
    },
    {
      "cell_type": "code",
      "source": [
        "#Métricas de posição Grupo1\n",
        "print('Média:',df['Grupo1'].mean())\n",
        "print('Mediana:',df['Grupo1'].median())\n",
        "print('1º Quartil:',df['Grupo1'].quantile(0.25))\n",
        "print('3º Quartil:',df['Grupo1'].quantile(0.75))\n",
        "print('Moda:',df['Grupo1'].mode())"
      ],
      "metadata": {
        "id": "IBhh0sMQfly9",
        "outputId": "53867c18-e1bf-4a97-bae7-7533adc60e03",
        "colab": {
          "base_uri": "https://localhost:8080/"
        }
      },
      "execution_count": null,
      "outputs": [
        {
          "output_type": "stream",
          "name": "stdout",
          "text": [
            "Média: 0.7541666666666667\n",
            "Mediana: 0.0\n",
            "1º Quartil: 0.0\n",
            "3º Quartil: 0.0\n",
            "Moda: 0    0\n",
            "dtype: int64\n"
          ]
        }
      ]
    },
    {
      "cell_type": "code",
      "source": [
        "#Métricas de posição Grupo2\n",
        "print('Média:',df['Grupo2'].mean())\n",
        "print('Mediana:',df['Grupo2'].median())\n",
        "print('1º Quartil:',df['Grupo2'].quantile(0.25))\n",
        "print('3º Quartil:',df['Grupo2'].quantile(0.75))\n",
        "print('Moda:',df['Grupo2'].mode())"
      ],
      "metadata": {
        "id": "ddu1JcOUi-sf",
        "outputId": "6407a4a4-0c0c-436e-9e63-2794f6408433",
        "colab": {
          "base_uri": "https://localhost:8080/"
        }
      },
      "execution_count": null,
      "outputs": [
        {
          "output_type": "stream",
          "name": "stdout",
          "text": [
            "Média: 1.1368055555555556\n",
            "Mediana: 0.0\n",
            "1º Quartil: 0.0\n",
            "3º Quartil: 1.0\n",
            "Moda: 0    0\n",
            "dtype: int64\n"
          ]
        }
      ]
    },
    {
      "cell_type": "code",
      "source": [
        "#Métricas de posição Grupo3\n",
        "print('Média:',df['Grupo3'].mean())\n",
        "print('Mediana:',df['Grupo3'].median())\n",
        "print('1º Quartil:',df['Grupo3'].quantile(0.25))\n",
        "print('3º Quartil:',df['Grupo3'].quantile(0.75))\n",
        "print('Moda:',df['Grupo3'].mode())"
      ],
      "metadata": {
        "id": "U4GG-rJHjMxI",
        "outputId": "52689fe0-f06a-4c1e-dc69-7a7d7aca45c8",
        "colab": {
          "base_uri": "https://localhost:8080/"
        }
      },
      "execution_count": null,
      "outputs": [
        {
          "output_type": "stream",
          "name": "stdout",
          "text": [
            "Média: 6.0055555555555555\n",
            "Mediana: 0.0\n",
            "1º Quartil: 0.0\n",
            "3º Quartil: 17.0\n",
            "Moda: 0    0\n",
            "dtype: int64\n"
          ]
        }
      ]
    },
    {
      "cell_type": "code",
      "source": [
        "#Métricas de dispersão grupo1\n",
        "print('Amplitude:',df['Grupo1'].max()-df['Grupo1'].mean())\n",
        "print('Variância:',df['Grupo1'].var())\n",
        "print('Desvio Padrão:',df['Grupo1'].std())\n",
        "print('Coeficiente de variação:',df['Grupo1'].std()/df['Grupo1'].mean())"
      ],
      "metadata": {
        "colab": {
          "base_uri": "https://localhost:8080/"
        },
        "id": "GUSgzbSTn3fj",
        "outputId": "3d0aa1a6-01f3-45a8-a787-1c3498756d6d"
      },
      "execution_count": null,
      "outputs": [
        {
          "output_type": "stream",
          "name": "stdout",
          "text": [
            "Amplitude: 37.24583333333333\n",
            "Variância: 24.107658909343517\n",
            "Desvio Padrão: 4.909955082212415\n",
            "Coeficiente de variação: 6.51043767807171\n"
          ]
        }
      ]
    },
    {
      "cell_type": "code",
      "source": [
        "#Métricas de dispersão grupo2\n",
        "print('Amplitude:',df['Grupo2'].max()-df['Grupo2'].mean())\n",
        "print('Variância:',df['Grupo2'].var())\n",
        "print('Desvio Padrão:',df['Grupo2'].std())\n",
        "print('Coeficiente de variação:',df['Grupo2'].std()/df['Grupo2'].mean())"
      ],
      "metadata": {
        "colab": {
          "base_uri": "https://localhost:8080/"
        },
        "id": "SsxfrbZc3Mr6",
        "outputId": "b7489cb1-3e73-4797-ef3e-e59ed41e3d38"
      },
      "execution_count": null,
      "outputs": [
        {
          "output_type": "stream",
          "name": "stdout",
          "text": [
            "Amplitude: 38.863194444444446\n",
            "Variância: 26.696803963567596\n",
            "Desvio Padrão: 5.1668950021814455\n",
            "Coeficiente de variação: 4.545100063006281\n"
          ]
        }
      ]
    },
    {
      "cell_type": "code",
      "source": [
        "#Métricas de dispersão grupo3\n",
        "print('Amplitude:',df['Grupo3'].max()-df['Grupo3'].mean())\n",
        "print('Variância:',df['Grupo3'].var())\n",
        "print('Desvio Padrão:',df['Grupo3'].std())\n",
        "print('Coeficiente de variação:',df['Grupo3'].std()/df['Grupo3'].mean())"
      ],
      "metadata": {
        "colab": {
          "base_uri": "https://localhost:8080/"
        },
        "id": "FvRX_YqU3boo",
        "outputId": "0b0ba267-0517-46c6-c30b-52a82bc0f2f8"
      },
      "execution_count": null,
      "outputs": [
        {
          "output_type": "stream",
          "name": "stdout",
          "text": [
            "Amplitude: 12.994444444444444\n",
            "Variância: 69.38517232063603\n",
            "Desvio Padrão: 8.329776246732923\n",
            "Coeficiente de variação: 1.3870117709638539\n"
          ]
        }
      ]
    },
    {
      "cell_type": "code",
      "source": [
        "#Métricas de posição e dispersão com um único comando\n",
        "print(df['Grupo1'].describe())\n",
        "print(\"\")\n",
        "print(df['Grupo2'].describe())\n",
        "print(\"\")\n",
        "print(df['Grupo3'].describe())"
      ],
      "metadata": {
        "colab": {
          "base_uri": "https://localhost:8080/"
        },
        "id": "5xzN5bUD5RYD",
        "outputId": "19bf89b6-2e56-4bd4-bd00-27093832ef19"
      },
      "execution_count": null,
      "outputs": [
        {
          "output_type": "stream",
          "name": "stdout",
          "text": [
            "count    2880.000000\n",
            "mean        0.754167\n",
            "std         4.909955\n",
            "min         0.000000\n",
            "25%         0.000000\n",
            "50%         0.000000\n",
            "75%         0.000000\n",
            "max        38.000000\n",
            "Name: Grupo1, dtype: float64\n",
            "\n",
            "count    2880.000000\n",
            "mean        1.136806\n",
            "std         5.166895\n",
            "min         0.000000\n",
            "25%         0.000000\n",
            "50%         0.000000\n",
            "75%         1.000000\n",
            "max        40.000000\n",
            "Name: Grupo2, dtype: float64\n",
            "\n",
            "count    2880.000000\n",
            "mean        6.005556\n",
            "std         8.329776\n",
            "min         0.000000\n",
            "25%         0.000000\n",
            "50%         0.000000\n",
            "75%        17.000000\n",
            "max        19.000000\n",
            "Name: Grupo3, dtype: float64\n"
          ]
        }
      ]
    },
    {
      "cell_type": "code",
      "source": [
        "#Histograma\n",
        "import matplotlib.pyplot as plt\n",
        "plt.figure(figsize=(8,4))\n",
        "plt.title(\"Distribuição de frequência\",fontsize=18)\n",
        "plt.xlabel(\"Potência\",fontsize=12)\n",
        "plt.ylabel(\"Frequência relativa\",fontsize=12)\n",
        "plt.hist(df['Grupo1'],bins='auto')\n",
        "plt.grid()\n"
      ],
      "metadata": {
        "colab": {
          "base_uri": "https://localhost:8080/",
          "height": 303
        },
        "id": "Wcbk4m_q6EyJ",
        "outputId": "b74e6933-39e3-4ef4-ab89-def1702d5326"
      },
      "execution_count": null,
      "outputs": [
        {
          "output_type": "display_data",
          "data": {
            "text/plain": [
              "<Figure size 576x288 with 1 Axes>"
            ],
            "image/png": "[encoded data removed]"
          },
          "metadata": {
            "needs_background": "light"
          }
        }
      ]
    },
    {
      "cell_type": "code",
      "source": [
        "#Histograma\n",
        "import matplotlib.pyplot as plt\n",
        "plt.figure(figsize=(8,4))\n",
        "plt.title(\"Distribuição de frequência\",fontsize=18)\n",
        "plt.xlabel(\"Potência\",fontsize=12)\n",
        "plt.ylabel(\"Frequência relativa\",fontsize=12)\n",
        "plt.hist(df['Grupo2'],bins='auto')\n",
        "plt.grid()"
      ],
      "metadata": {
        "colab": {
          "base_uri": "https://localhost:8080/",
          "height": 303
        },
        "id": "wmavRUNP8Zy4",
        "outputId": "78ef4f3a-fa02-4395-ab98-68df8f22f605"
      },
      "execution_count": null,
      "outputs": [
        {
          "output_type": "display_data",
          "data": {
            "text/plain": [
              "<Figure size 576x288 with 1 Axes>"
            ],
            "image/png": "[encoded data removed]"
          },
          "metadata": {
            "needs_background": "light"
          }
        }
      ]
    },
    {
      "cell_type": "code",
      "source": [
        "#Histograma\n",
        "import matplotlib.pyplot as plt\n",
        "plt.figure(figsize=(8,4))\n",
        "plt.title(\"Distribuição de frequência\",fontsize=18)\n",
        "plt.xlabel(\"Potência\",fontsize=12)\n",
        "plt.ylabel(\"Frequência relativa\",fontsize=12)\n",
        "plt.hist(df['Grupo3'],bins='auto')\n",
        "plt.grid()"
      ],
      "metadata": {
        "colab": {
          "base_uri": "https://localhost:8080/",
          "height": 303
        },
        "id": "Z-fVxKbw8jPn",
        "outputId": "07cf4dee-ded1-4904-ec6f-3a1e66f0b5e9"
      },
      "execution_count": null,
      "outputs": [
        {
          "output_type": "display_data",
          "data": {
            "text/plain": [
              "<Figure size 576x288 with 1 Axes>"
            ],
            "image/png": "[encoded data removed]"
          },
          "metadata": {
            "needs_background": "light"
          }
        }
      ]
    }
  ]
}